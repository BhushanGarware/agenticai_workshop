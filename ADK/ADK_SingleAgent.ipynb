{
  "nbformat": 4,
  "nbformat_minor": 0,
  "metadata": {
    "colab": {
      "provenance": []
    },
    "kernelspec": {
      "name": "python3",
      "display_name": "Python 3"
    },
    "language_info": {
      "name": "python"
    }
  },
  "cells": [
    {
      "cell_type": "markdown",
      "source": [
        "# Building Agent with Mutliple tools using ADK"
      ],
      "metadata": {
        "id": "U9c9gWL-KzOv"
      }
    },
    {
      "cell_type": "markdown",
      "source": [
        "| | |\n",
        "|-|-|\n",
        "|Adapted from | [Public Repo](https://github.com/sokart/adk-walkthrough) |"
      ],
      "metadata": {
        "id": "olqNR1IiXl9X"
      }
    },
    {
      "cell_type": "markdown",
      "source": [
        "## Overview\n",
        "In this notebook we create an agent that uses multiple functions to solve mathematical calculations. This example shows how t0 extract key information from a single event within the agent's event stream. It checks if the event represents the final response, identifies any function calls made by the agent, and retrieves any function call responses."
      ],
      "metadata": {
        "id": "oI8d7oxFLHiU"
      }
    },
    {
      "cell_type": "markdown",
      "source": [
        "## Get started"
      ],
      "metadata": {
        "id": "vIjjdY96LNv3"
      }
    },
    {
      "cell_type": "code",
      "source": [
        "!pip install google-adk"
      ],
      "metadata": {
        "id": "SxXZd5WuLOR1"
      },
      "execution_count": null,
      "outputs": []
    },
    {
      "cell_type": "markdown",
      "source": [
        "### Restart runtime\n",
        "\n",
        "To use the newly installed packages in this Jupyter runtime, you must restart the runtime. You can do this by running the cell below, which restarts the current kernel.\n",
        "\n",
        "The restart might take a minute or longer. After it's restarted, continue to the next step."
      ],
      "metadata": {
        "id": "plFZ-vMKNCO5"
      }
    },
    {
      "cell_type": "code",
      "source": [
        "import IPython\n",
        "\n",
        "app = IPython.Application.instance()\n",
        "app.kernel.do_shutdown(True)"
      ],
      "metadata": {
        "id": "OzMdeWWeLa8E"
      },
      "execution_count": null,
      "outputs": []
    },
    {
      "cell_type": "markdown",
      "source": [
        "### Authenticate your notebook environment (Colab only)\n",
        "\n",
        "If you're running this notebook on Google Colab, run the cell below to authenticate your environment."
      ],
      "metadata": {
        "id": "5kcWGdQ7Lq6l"
      }
    },
    {
      "cell_type": "code",
      "source": [
        "import sys\n",
        "\n",
        "if \"google.colab\" in sys.modules:\n",
        "    from google.colab import auth\n",
        "\n",
        "    auth.authenticate_user()"
      ],
      "metadata": {
        "id": "Ldd2F358NI_2"
      },
      "execution_count": null,
      "outputs": []
    },
    {
      "cell_type": "markdown",
      "source": [
        "### Set Google Cloud project information"
      ],
      "metadata": {
        "id": "OWlYrt_lLwkb"
      }
    },
    {
      "cell_type": "code",
      "source": [
        "import time\n",
        "import os\n",
        "os.environ['GOOGLE_GENAI_USE_VERTEXAI'] = \"1\"\n",
        "os.environ['GOOGLE_CLOUD_PROJECT'] =\"agentinsights-454005\" # @param {type: \"string\", placeholder: \"[your-project-id]\", isTemplate: true}\n",
        "os.environ['GOOGLE_CLOUD_LOCATION'] =\"us-central1\""
      ],
      "metadata": {
        "id": "2AbG69rmLjYG"
      },
      "execution_count": null,
      "outputs": []
    },
    {
      "cell_type": "markdown",
      "source": [
        "## Import libraries\n",
        "\n",
        "Import tutorial libraries."
      ],
      "metadata": {
        "id": "rlMcz7urNuZt"
      }
    },
    {
      "cell_type": "code",
      "source": [
        "# Import libraries from the Agent Framework\n",
        "from google.adk.agents import Agent\n",
        "from google.adk.artifacts import InMemoryArtifactService\n",
        "from google.adk.runners import Runner\n",
        "from google.adk.sessions import InMemorySessionService\n",
        "from google.genai import types"
      ],
      "metadata": {
        "id": "m-0tmwpbLkxQ"
      },
      "execution_count": null,
      "outputs": []
    },
    {
      "cell_type": "code",
      "source": [
        "# Constants\n",
        "MODEL = \"gemini-2.0-flash-001\" # The model ID for the agent\n",
        "AGENT_APP_NAME = 'agent_math'"
      ],
      "metadata": {
        "id": "hT6XOsRAN291"
      },
      "execution_count": null,
      "outputs": []
    },
    {
      "cell_type": "code",
      "source": [
        "session_service = InMemorySessionService()\n",
        "artifact_service = InMemoryArtifactService()"
      ],
      "metadata": {
        "id": "WdqKoH8OODCD"
      },
      "execution_count": null,
      "outputs": []
    },
    {
      "cell_type": "markdown",
      "source": [
        "# Define Python Functions as Tools"
      ],
      "metadata": {
        "id": "UNQ40kreV36C"
      }
    },
    {
      "cell_type": "code",
      "source": [
        "def add(numbers: list[int]) -> int:\n",
        "  \"\"\"Calculates the sum of a list of integers.\n",
        "\n",
        "    This function takes a list of integers as input and returns the sum of all\n",
        "    the elements in the list.  It uses the built-in `sum()` function for\n",
        "    efficiency.\n",
        "\n",
        "    Args:\n",
        "        numbers: A list of integers to be added.\n",
        "\n",
        "    Returns:\n",
        "        The sum of the integers in the input list.  Returns 0 if the input\n",
        "        list is empty.\n",
        "\n",
        "    Examples:\n",
        "        add([1, 2, 3]) == 6\n",
        "        add([-1, 0, 1]) == 0\n",
        "        add([]) == 0\n",
        "    \"\"\"\n",
        "  return sum(numbers)"
      ],
      "metadata": {
        "id": "MbTXb8OvV83y"
      },
      "execution_count": null,
      "outputs": []
    },
    {
      "cell_type": "code",
      "source": [
        "def subtract(numbers: list[int]) -> int:\n",
        "    \"\"\"Subtracts numbers in a list sequentially from left to right.\n",
        "\n",
        "    This function performs subtraction on a list of integers, applying the\n",
        "    subtraction operation from left to right.  For example, given the list\n",
        "    [10, 2, 5], the function will calculate 10 - 2 - 5.\n",
        "\n",
        "    Args:\n",
        "        numbers: A list of integers to be subtracted.\n",
        "\n",
        "    Returns:\n",
        "        The result of the sequential subtraction as an integer. Returns 0 if the input list is empty.\n",
        "\n",
        "    Examples:\n",
        "        subtract([10, 2, 5]) == 3  # (10 - 2) - 5 = 8 - 5 = 3\n",
        "        subtract([10, 2]) == 8      # 10 - 2 = 8\n",
        "        subtract([]) == 0\n",
        "    \"\"\"\n",
        "    if not numbers:\n",
        "        return 0  # Handle empty list\n",
        "    result = numbers[0]\n",
        "    for num in numbers[1:]:\n",
        "        result -= num\n",
        "    return result"
      ],
      "metadata": {
        "id": "Gb2xl9SaV_qs"
      },
      "execution_count": null,
      "outputs": []
    },
    {
      "cell_type": "code",
      "source": [
        "def multiply(numbers: list[int]) -> int:\n",
        "  \"\"\"Calculates the product of a list of integers.\n",
        "\n",
        "    This function takes a list of integers as input and returns the product of all\n",
        "    the elements in the list. It iterates through the list, multiplying each\n",
        "    number with the accumulated product.\n",
        "\n",
        "    Args:\n",
        "        numbers: A list of integers to be multiplied.\n",
        "\n",
        "    Returns:\n",
        "        The product of the integers in the input list. Returns 1 if the input\n",
        "        list is empty.\n",
        "\n",
        "    Examples:\n",
        "        multiply([2, 3, 4]) == 24  # 2 * 3 * 4 = 24\n",
        "        multiply([1, -2, 5]) == -10 # 1 * -2 * 5 = -10\n",
        "        multiply([]) == 1\n",
        "    \"\"\"\n",
        "  product = 1\n",
        "  for num in numbers:\n",
        "    product *= num\n",
        "  return product"
      ],
      "metadata": {
        "id": "URKeJSDqWCRZ"
      },
      "execution_count": null,
      "outputs": []
    },
    {
      "cell_type": "code",
      "source": [
        "def divide(numbers: list[int]) -> float:  # Use float for division\n",
        "    \"\"\"Divides numbers in a list sequentially from left to right.\n",
        "\n",
        "    This function performs division on a list of integers, applying the division\n",
        "    operation from left to right.  For example, given the list [10, 2, 5], the\n",
        "    function will calculate 10 / 2 / 5.\n",
        "\n",
        "    Args:\n",
        "        numbers: A list of integers to be divided.\n",
        "\n",
        "    Returns:\n",
        "        The result of the sequential division as a float.\n",
        "\n",
        "    Raises:\n",
        "        ZeroDivisionError: If any number in the list *after* the first element\n",
        "                           is zero, a ZeroDivisionError is raised.  Division by\n",
        "                           zero is not permitted.\n",
        "\n",
        "    Returns:\n",
        "        float: The result of the division. Returns 0.0 if the input list is empty.\n",
        "\n",
        "    Examples:\n",
        "        divide([10, 2, 5]) == 1.0  # (10 / 2) / 5 = 5 / 5 = 1.0\n",
        "        divide([10, 2]) == 5.0      # 10 / 2 = 5.0\n",
        "        divide([10, 0, 5])  # Raises ZeroDivisionError\n",
        "        divide([]) == 0.0\n",
        "    \"\"\"\n",
        "    if not numbers:\n",
        "        return 0.0 # Handle empty list\n",
        "    if 0 in numbers[1:]: # Check for division by zero\n",
        "        raise ZeroDivisionError(\"Cannot divide by zero.\")\n",
        "    result = numbers[0]\n",
        "    for num in numbers[1:]:\n",
        "        result /= num\n",
        "    return result"
      ],
      "metadata": {
        "id": "VrHvkJFLWLPQ"
      },
      "execution_count": null,
      "outputs": []
    },
    {
      "cell_type": "markdown",
      "source": [
        "## Define an Agent"
      ],
      "metadata": {
        "id": "-UKUk5BeWQYB"
      }
    },
    {
      "cell_type": "code",
      "source": [
        "agent_math = Agent(\n",
        "    model=MODEL,\n",
        "    name=\"agent_math\",\n",
        "    description=\"This agent performs basic arithmetic operations (addition, subtraction, multiplication, and division) on user-provided numbers, including ranges.\",\n",
        "    instruction=\"\"\"\n",
        "      I can perform addition, subtraction, multiplication, and division operations on numbers you provide.\n",
        "      Tell me the numbers you want to operate on.\n",
        "      For example, you can say 'add 3 5', 'multiply 2, 4 and 3', 'Subtract 10 from 20', 'Divide 10 by 2'.\n",
        "      You can also provide a range: 'Multiply the numbers between 1 and 10'.\n",
        "    \"\"\",\n",
        "    generate_content_config=types.GenerateContentConfig(temperature=0.2),\n",
        "    tools=[add, subtract, multiply, divide],\n",
        ")"
      ],
      "metadata": {
        "id": "N77vwyghWUbE"
      },
      "execution_count": null,
      "outputs": []
    },
    {
      "cell_type": "markdown",
      "source": [
        "### Create a utility function"
      ],
      "metadata": {
        "id": "O8ROYL_3SO3I"
      }
    },
    {
      "cell_type": "code",
      "source": [
        "def send_query_to_agent(agent, query):\n",
        "    \"\"\"Sends a query to the specified agent and prints the response.\n",
        "\n",
        "        Args:\n",
        "            agent: The agent to send the query to.\n",
        "            query: The query to send to the agent.\n",
        "\n",
        "        Returns:\n",
        "            A tuple containing the elapsed time (in milliseconds) and the final response from the agent.\n",
        "    \"\"\"\n",
        "\n",
        "    # Create a new session - if you want to keep the history of interruction you need to move the\n",
        "    # creation of the session outside of this function. Here we create a new session per query\n",
        "    session = session_service.create_session(app_name=AGENT_APP_NAME,user_id='user',)\n",
        "\n",
        "    # Create a content object representing the user's query\n",
        "    print('\\nUser Query: ', query)\n",
        "    content = types.Content(role='user', parts=[types.Part(text=query)])\n",
        "\n",
        "    # Start a timer to measure the response time\n",
        "    start_time = time.time()\n",
        "\n",
        "    # Create a runner object to manage the interaction with the agent\n",
        "    runner = Runner(app_name=AGENT_APP_NAME, agent=agent, artifact_service=artifact_service, session_service=session_service)\n",
        "\n",
        "    # Run the interaction with the agent and get a stream of events\n",
        "    events = runner.run(user_id='user', session_id=session.id, new_message=content)\n",
        "\n",
        "    final_response = None\n",
        "    elapsed_time_ms = 0.0\n",
        "\n",
        "    # Loop through the events returned by the runner\n",
        "    for _, event in enumerate(events):\n",
        "\n",
        "        is_final_response = event.is_final_response()\n",
        "        function_calls = event.get_function_calls()\n",
        "        function_responses = event.get_function_responses()\n",
        "\n",
        "        if not event.content:\n",
        "             continue\n",
        "\n",
        "        if is_final_response:\n",
        "            end_time = time.time()\n",
        "            elapsed_time_ms = round((end_time - start_time) * 1000, 3)\n",
        "\n",
        "            print(\"-----------------------------\")\n",
        "            print('>>> Inside final response <<<')\n",
        "            print(\"-----------------------------\")\n",
        "            final_response = event.content.parts[0].text # Get the final response from the agent\n",
        "            print(f'Agent: {event.author}')\n",
        "            print(f'Response time: {elapsed_time_ms} ms\\n')\n",
        "            print(f'Final Response:\\n{final_response}')\n",
        "            print(\"----------------------------------------------------------\\n\")\n",
        "        elif function_calls:\n",
        "            print(\"-----------------------------\")\n",
        "            print('+++ Inside function call +++')\n",
        "            print(\"-----------------------------\")\n",
        "\n",
        "            print(f'Agent: {event.author}')\n",
        "            for function_call in function_calls:\n",
        "                print(f'Call Function: {function_call.name}')\n",
        "                print(f'Argument: {function_call.args}')\n",
        "        elif function_responses:\n",
        "            print(\"------------------------------\")\n",
        "            print('-- Inside function response --')\n",
        "            print(\"------------------------------\")\n",
        "\n",
        "            print(f'Agent: {event.author}')\n",
        "            for function_response in function_responses:\n",
        "                    print(f'Function Name: {function_response.name}')\n",
        "                    print(f'Function Results: {function_response.response}')\n",
        "\n",
        "    return elapsed_time_ms, final_response"
      ],
      "metadata": {
        "id": "KsyWNOmzWbKf"
      },
      "execution_count": null,
      "outputs": []
    },
    {
      "cell_type": "code",
      "source": [
        "# Send a single query to the agent\n",
        "send_query_to_agent(agent_math, \"First multiply numbers 1 to 3 and then add 4\")"
      ],
      "metadata": {
        "id": "_VlXgxMZOpH0"
      },
      "execution_count": null,
      "outputs": []
    }
  ]
}