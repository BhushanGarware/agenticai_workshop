{
  "nbformat": 4,
  "nbformat_minor": 0,
  "metadata": {
    "colab": {
      "provenance": []
    },
    "kernelspec": {
      "name": "python3",
      "display_name": "Python 3"
    },
    "language_info": {
      "name": "python"
    }
  },
  "cells": [
    {
      "cell_type": "markdown",
      "source": [
        "# Intro to Agent Development Kit [ADK]"
      ],
      "metadata": {
        "id": "U9c9gWL-KzOv"
      }
    },
    {
      "cell_type": "markdown",
      "source": [
        "## Overview\n",
        "This notebook provides a foundational introduction to creating a simple agent using the Google Agent Framework (ADK - Agent Development Kit). In this example, we will create an agent named \"agent_basic\" whose primary function is to inform users that it was built using the Google Agent Framework when asked about its creation. This showcases how to embed specific knowledge and responses directly into the agent's definition. By exploring this basic agent creation, you will gain an understanding of the fundamental building blocks and configuration options available within the Google Agent Framework for developing more sophisticated and specialized agents."
      ],
      "metadata": {
        "id": "oI8d7oxFLHiU"
      }
    },
    {
      "cell_type": "markdown",
      "source": [
        "## Get started"
      ],
      "metadata": {
        "id": "vIjjdY96LNv3"
      }
    },
    {
      "cell_type": "code",
      "source": [
        "!pip install google-adk"
      ],
      "metadata": {
        "id": "SxXZd5WuLOR1"
      },
      "execution_count": null,
      "outputs": []
    },
    {
      "cell_type": "markdown",
      "source": [
        "### Restart runtime\n",
        "\n",
        "To use the newly installed packages in this Jupyter runtime, you must restart the runtime. You can do this by running the cell below, which restarts the current kernel.\n",
        "\n",
        "The restart might take a minute or longer. After it's restarted, continue to the next step."
      ],
      "metadata": {
        "id": "plFZ-vMKNCO5"
      }
    },
    {
      "cell_type": "code",
      "source": [
        "import IPython\n",
        "\n",
        "app = IPython.Application.instance()\n",
        "app.kernel.do_shutdown(True)"
      ],
      "metadata": {
        "id": "OzMdeWWeLa8E"
      },
      "execution_count": null,
      "outputs": []
    },
    {
      "cell_type": "markdown",
      "source": [
        "### Authenticate your notebook environment (Colab only)\n",
        "\n",
        "If you're running this notebook on Google Colab, run the cell below to authenticate your environment."
      ],
      "metadata": {
        "id": "5kcWGdQ7Lq6l"
      }
    },
    {
      "cell_type": "code",
      "source": [
        "import sys\n",
        "\n",
        "if \"google.colab\" in sys.modules:\n",
        "    from google.colab import auth\n",
        "\n",
        "    auth.authenticate_user()"
      ],
      "metadata": {
        "id": "Ldd2F358NI_2"
      },
      "execution_count": null,
      "outputs": []
    },
    {
      "cell_type": "markdown",
      "source": [
        "### Set Google Cloud project information"
      ],
      "metadata": {
        "id": "OWlYrt_lLwkb"
      }
    },
    {
      "cell_type": "code",
      "source": [
        "import os\n",
        "os.environ['GOOGLE_GENAI_USE_VERTEXAI'] = \"1\"\n",
        "os.environ['GOOGLE_CLOUD_PROJECT'] =\"\" # @param {type: \"string\", placeholder: \"[your-project-id]\", isTemplate: true}\n",
        "os.environ['GOOGLE_CLOUD_LOCATION'] =\"us-central1\""
      ],
      "metadata": {
        "id": "2AbG69rmLjYG"
      },
      "execution_count": null,
      "outputs": []
    },
    {
      "cell_type": "markdown",
      "source": [
        "## Import libraries\n",
        "\n",
        "Import tutorial libraries."
      ],
      "metadata": {
        "id": "rlMcz7urNuZt"
      }
    },
    {
      "cell_type": "code",
      "source": [
        "# Import libraries from the Agent Framework\n",
        "from google.adk.agents import Agent\n",
        "from google.adk.artifacts import InMemoryArtifactService\n",
        "from google.adk.runners import Runner\n",
        "from google.adk.sessions import InMemorySessionService\n",
        "from google.genai import types"
      ],
      "metadata": {
        "id": "m-0tmwpbLkxQ"
      },
      "execution_count": null,
      "outputs": []
    },
    {
      "cell_type": "code",
      "source": [
        "# --- Constants ---\n",
        "APP_NAME = \"base_agent_app\"\n",
        "USER_ID = \"dev_user_01\"\n",
        "SESSION_ID = \"workshop_session_01\"\n",
        "MODEL = \"gemini-2.0-flash\""
      ],
      "metadata": {
        "id": "hT6XOsRAN291"
      },
      "execution_count": null,
      "outputs": []
    },
    {
      "cell_type": "code",
      "source": [
        "# Create a basic agent with instructions amd greeting only\n",
        "basic_agent = Agent(\n",
        "        model=MODEL,\n",
        "        name=\"agent_basic\",\n",
        "        description=\"This agent responds to inquiries about its creation by stating it was built using the Google Agent Framework.\",\n",
        "        instruction=\"If they ask you how you were created, tell them you were created with the Google Agent Framework.\",\n",
        "        generate_content_config=types.GenerateContentConfig(temperature=0.2),\n",
        "    )"
      ],
      "metadata": {
        "id": "WdqKoH8OODCD"
      },
      "execution_count": null,
      "outputs": []
    },
    {
      "cell_type": "code",
      "source": [
        "session_service = InMemorySessionService()\n",
        "# Initializes an in-memory session service. This service is used to manage and persist session data for the agents,\n",
        "# allowing them to maintain state across multiple interactions within the current runtime. Data stored here will\n",
        "# not persist beyond the lifespan of this Python process. For production environments, a persistent session\n",
        "# service (e.g., using a database) would be necessary.\n",
        "\n",
        "\n",
        "session = session_service.create_session(app_name=APP_NAME, user_id=USER_ID, session_id=SESSION_ID)\n",
        "# Creates a new session using the session service, associating it with the application (APP_NAME),\n",
        "# the current user (USER_ID), and a unique session identifier (SESSION_ID). This initializes\n",
        "# the user's interaction context and stores relevant session-specific data.\n",
        "\n",
        "runner = Runner(agent=basic_agent, app_name=APP_NAME, session_service=session_service)\n",
        "# Initializes a Runner instance, which is responsible for executing the 'basic_agent' within the specified application ('APP_NAME')\n",
        "# and managing its sessions using the provided 'session_service'."
      ],
      "metadata": {
        "id": "QRolHdJjOS8d"
      },
      "execution_count": null,
      "outputs": []
    },
    {
      "cell_type": "markdown",
      "source": [
        "### Create a utility function"
      ],
      "metadata": {
        "id": "O8ROYL_3SO3I"
      }
    },
    {
      "cell_type": "code",
      "source": [
        "# Agent Interaction\n",
        "def call_agent(query):\n",
        "    content = types.Content(role='user', parts=[types.Part(text=query)])\n",
        "    events = runner.run(user_id=USER_ID, session_id=SESSION_ID, new_message=content)\n",
        "\n",
        "    for event in events:\n",
        "        if event.is_final_response():\n",
        "            final_response = event.content.parts[0].text\n",
        "            print(\"Agent Response: \", final_response)\n"
      ],
      "metadata": {
        "id": "NoZToPiXOkxK"
      },
      "execution_count": null,
      "outputs": []
    },
    {
      "cell_type": "code",
      "source": [
        "call_agent(\"Who are you ?\")"
      ],
      "metadata": {
        "id": "_VlXgxMZOpH0"
      },
      "execution_count": null,
      "outputs": []
    },
    {
      "cell_type": "code",
      "source": [],
      "metadata": {
        "id": "xGCdqb6yOt8j"
      },
      "execution_count": null,
      "outputs": []
    }
  ]
}