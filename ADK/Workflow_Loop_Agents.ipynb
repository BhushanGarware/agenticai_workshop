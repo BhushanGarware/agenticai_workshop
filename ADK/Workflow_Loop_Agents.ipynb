{
  "nbformat": 4,
  "nbformat_minor": 0,
  "metadata": {
    "colab": {
      "provenance": []
    },
    "kernelspec": {
      "name": "python3",
      "display_name": "Python 3"
    },
    "language_info": {
      "name": "python"
    }
  },
  "cells": [
    {
      "cell_type": "markdown",
      "source": [
        "# Loop Agentic Workflows"
      ],
      "metadata": {
        "id": "U9c9gWL-KzOv"
      }
    },
    {
      "cell_type": "markdown",
      "source": [
        "## Overview\n",
        "The LoopAgent is a workflow agent that executes its sub-agents in a loop (i.e. iteratively). It repeatedly runs a sequence of agents for a specified number of iterations or until a termination condition is met."
      ],
      "metadata": {
        "id": "oI8d7oxFLHiU"
      }
    },
    {
      "cell_type": "markdown",
      "source": [
        "## Get started"
      ],
      "metadata": {
        "id": "vIjjdY96LNv3"
      }
    },
    {
      "cell_type": "code",
      "source": [
        "!pip install google-adk"
      ],
      "metadata": {
        "id": "SxXZd5WuLOR1"
      },
      "execution_count": null,
      "outputs": []
    },
    {
      "cell_type": "markdown",
      "source": [
        "### Restart runtime\n",
        "\n",
        "To use the newly installed packages in this Jupyter runtime, you must restart the runtime. You can do this by running the cell below, which restarts the current kernel.\n",
        "\n",
        "The restart might take a minute or longer. After it's restarted, continue to the next step."
      ],
      "metadata": {
        "id": "plFZ-vMKNCO5"
      }
    },
    {
      "cell_type": "code",
      "source": [
        "import IPython\n",
        "\n",
        "app = IPython.Application.instance()\n",
        "app.kernel.do_shutdown(True)"
      ],
      "metadata": {
        "id": "OzMdeWWeLa8E"
      },
      "execution_count": null,
      "outputs": []
    },
    {
      "cell_type": "markdown",
      "source": [
        "### Authenticate your notebook environment (Colab only)\n",
        "\n",
        "If you're running this notebook on Google Colab, run the cell below to authenticate your environment."
      ],
      "metadata": {
        "id": "5kcWGdQ7Lq6l"
      }
    },
    {
      "cell_type": "code",
      "source": [
        "import sys\n",
        "\n",
        "if \"google.colab\" in sys.modules:\n",
        "    from google.colab import auth\n",
        "\n",
        "    auth.authenticate_user()"
      ],
      "metadata": {
        "id": "Ldd2F358NI_2"
      },
      "execution_count": null,
      "outputs": []
    },
    {
      "cell_type": "markdown",
      "source": [
        "### Set Google Cloud project information"
      ],
      "metadata": {
        "id": "OWlYrt_lLwkb"
      }
    },
    {
      "cell_type": "code",
      "source": [
        "import time\n",
        "import os\n",
        "os.environ['GOOGLE_GENAI_USE_VERTEXAI'] = \"1\"\n",
        "os.environ['GOOGLE_CLOUD_PROJECT'] =\"\" # @param {type: \"string\", placeholder: \"[your-project-id]\", isTemplate: true}\n",
        "os.environ['GOOGLE_CLOUD_LOCATION'] =\"us-central1\""
      ],
      "metadata": {
        "id": "2AbG69rmLjYG"
      },
      "execution_count": null,
      "outputs": []
    },
    {
      "cell_type": "markdown",
      "source": [
        "## Import libraries\n",
        "\n",
        "Import tutorial libraries."
      ],
      "metadata": {
        "id": "rlMcz7urNuZt"
      }
    },
    {
      "cell_type": "code",
      "source": [
        "# Import libraries from the Agent Framework\n",
        "from google.adk.agents.loop_agent import LoopAgent\n",
        "from google.adk.agents.llm_agent import LlmAgent\n",
        "from google.genai import types\n",
        "from google.adk.sessions import InMemorySessionService\n",
        "from google.adk.runners import Runner"
      ],
      "metadata": {
        "id": "m-0tmwpbLkxQ"
      },
      "execution_count": null,
      "outputs": []
    },
    {
      "cell_type": "code",
      "source": [
        "# --- Constants ---\n",
        "APP_NAME = \"doc_writing_app\"\n",
        "USER_ID = \"dev_user_01\"\n",
        "SESSION_ID = \"session_01\"\n",
        "GEMINI_MODEL = \"gemini-2.0-flash\""
      ],
      "metadata": {
        "id": "hT6XOsRAN291"
      },
      "execution_count": null,
      "outputs": []
    },
    {
      "cell_type": "code",
      "source": [
        "# --- State Keys ---\n",
        "STATE_INITIAL_TOPIC = \"quantum physics\"\n",
        "STATE_CURRENT_DOC = \"current_document\"\n",
        "STATE_CRITICISM = \"criticism\""
      ],
      "metadata": {
        "id": "Fv9W0LfSEmsj"
      },
      "execution_count": null,
      "outputs": []
    },
    {
      "cell_type": "markdown",
      "source": [
        "# Define Writer Agent"
      ],
      "metadata": {
        "id": "UNQ40kreV36C"
      }
    },
    {
      "cell_type": "code",
      "source": [
        "writer_agent = LlmAgent(\n",
        "    name=\"WriterAgent\",\n",
        "    model=GEMINI_MODEL,\n",
        "    instruction=f\"\"\"\n",
        "    You are a Creative Writer AI.\n",
        "    Check the session state for '{STATE_CURRENT_DOC}'.\n",
        "    If '{STATE_CURRENT_DOC}' does NOT exist or is empty, write a very short (1-2 sentence) story or document based on the topic in state key '{STATE_INITIAL_TOPIC}'.\n",
        "    If '{STATE_CURRENT_DOC}' *already exists* and '{STATE_CRITICISM}', refine '{STATE_CURRENT_DOC}' according to the comments in '{STATE_CRITICISM}'.\"\n",
        "    Output *only* the story or the exact pass-through message.\n",
        "    \"\"\",\n",
        "    description=\"Writes the initial document draft.\",\n",
        "    output_key=STATE_CURRENT_DOC # Saves output to state\n",
        ")"
      ],
      "metadata": {
        "id": "H1qJdn1Eka8e"
      },
      "execution_count": null,
      "outputs": []
    },
    {
      "cell_type": "markdown",
      "source": [
        "## Critic Agent"
      ],
      "metadata": {
        "id": "-UKUk5BeWQYB"
      }
    },
    {
      "cell_type": "code",
      "source": [
        "# Critic Agent (LlmAgent)\n",
        "critic_agent = LlmAgent(\n",
        "    name=\"CriticAgent\",\n",
        "    model=GEMINI_MODEL,\n",
        "    instruction=f\"\"\"\n",
        "    You are a Constructive Critic AI.\n",
        "    Review the document provided in the session state key '{STATE_CURRENT_DOC}'.\n",
        "    Provide 1-2 brief suggestions for improvement (e.g., \"Make it more exciting\", \"Add more detail\").\n",
        "    Output *only* the critique.\n",
        "    \"\"\",\n",
        "    description=\"Reviews the current document draft.\",\n",
        "    output_key=STATE_CRITICISM # Saves critique to state\n",
        ")"
      ],
      "metadata": {
        "id": "terrjAkikf0K"
      },
      "execution_count": null,
      "outputs": []
    },
    {
      "cell_type": "markdown",
      "source": [
        "#Create the Loop Agent"
      ],
      "metadata": {
        "id": "JT_m2N3zCHBw"
      }
    },
    {
      "cell_type": "code",
      "source": [
        "# Create the LoopAgent\n",
        "loop_agent = LoopAgent(\n",
        "    name=\"LoopAgent\", sub_agents=[writer_agent, critic_agent], max_iterations=5\n",
        ")"
      ],
      "metadata": {
        "id": "SS5eInnCCOR3"
      },
      "execution_count": null,
      "outputs": []
    },
    {
      "cell_type": "code",
      "source": [
        "# Session and Runner\n",
        "session_service = InMemorySessionService()\n",
        "session = session_service.create_session(app_name=APP_NAME, user_id=USER_ID, session_id=SESSION_ID)\n",
        "runner = Runner(agent=loop_agent, app_name=APP_NAME, session_service=session_service)"
      ],
      "metadata": {
        "id": "TT-ivcWBisII"
      },
      "execution_count": null,
      "outputs": []
    },
    {
      "cell_type": "code",
      "source": [
        "# Session and Runner\n",
        "session_service = InMemorySessionService()\n",
        "session = session_service.create_session(app_name=APP_NAME, user_id=USER_ID, session_id=SESSION_ID)\n",
        "runner = Runner(agent=loop_agent, app_name=APP_NAME, session_service=session_service)\n",
        "\n",
        "# Agent Interaction\n",
        "def call_agent(query):\n",
        "    content = types.Content(role='user', parts=[types.Part(text=query)])\n",
        "    events = runner.run(user_id=USER_ID, session_id=SESSION_ID, new_message=content)\n",
        "\n",
        "    for event in events:\n",
        "        if event.is_final_response():\n",
        "            final_response = event.content.parts[0].text\n",
        "            print(\"Agent Response: \", final_response)"
      ],
      "metadata": {
        "id": "QmA1PXPeCr7g"
      },
      "execution_count": null,
      "outputs": []
    },
    {
      "cell_type": "code",
      "source": [
        "call_agent(\"execute\")"
      ],
      "metadata": {
        "id": "ALn-csMrC8xG"
      },
      "execution_count": null,
      "outputs": []
    },
    {
      "cell_type": "code",
      "source": [],
      "metadata": {
        "id": "ameDtCVEGNcb"
      },
      "execution_count": null,
      "outputs": []
    }
  ]
}