{
  "nbformat": 4,
  "nbformat_minor": 0,
  "metadata": {
    "colab": {
      "provenance": []
    },
    "kernelspec": {
      "name": "python3",
      "display_name": "Python 3"
    },
    "language_info": {
      "name": "python"
    }
  },
  "cells": [
    {
      "cell_type": "markdown",
      "source": [
        "# Agent as a Tool using ADK"
      ],
      "metadata": {
        "id": "U9c9gWL-KzOv"
      }
    },
    {
      "cell_type": "markdown",
      "source": [
        "## Overview\n",
        "In this notebook we will see how can we use Agent as a tool for anothr agent."
      ],
      "metadata": {
        "id": "oI8d7oxFLHiU"
      }
    },
    {
      "cell_type": "markdown",
      "source": [
        "## Get started"
      ],
      "metadata": {
        "id": "vIjjdY96LNv3"
      }
    },
    {
      "cell_type": "code",
      "source": [
        "!pip install google-adk"
      ],
      "metadata": {
        "id": "SxXZd5WuLOR1"
      },
      "execution_count": null,
      "outputs": []
    },
    {
      "cell_type": "markdown",
      "source": [
        "### Restart runtime\n",
        "\n",
        "To use the newly installed packages in this Jupyter runtime, you must restart the runtime. You can do this by running the cell below, which restarts the current kernel.\n",
        "\n",
        "The restart might take a minute or longer. After it's restarted, continue to the next step."
      ],
      "metadata": {
        "id": "plFZ-vMKNCO5"
      }
    },
    {
      "cell_type": "code",
      "source": [
        "import IPython\n",
        "\n",
        "app = IPython.Application.instance()\n",
        "app.kernel.do_shutdown(True)"
      ],
      "metadata": {
        "id": "OzMdeWWeLa8E"
      },
      "execution_count": null,
      "outputs": []
    },
    {
      "cell_type": "markdown",
      "source": [
        "### Authenticate your notebook environment (Colab only)\n",
        "\n",
        "If you're running this notebook on Google Colab, run the cell below to authenticate your environment."
      ],
      "metadata": {
        "id": "5kcWGdQ7Lq6l"
      }
    },
    {
      "cell_type": "code",
      "source": [
        "import sys\n",
        "\n",
        "if \"google.colab\" in sys.modules:\n",
        "    from google.colab import auth\n",
        "\n",
        "    auth.authenticate_user()"
      ],
      "metadata": {
        "id": "Ldd2F358NI_2"
      },
      "execution_count": null,
      "outputs": []
    },
    {
      "cell_type": "markdown",
      "source": [
        "### Set Google Cloud project information"
      ],
      "metadata": {
        "id": "OWlYrt_lLwkb"
      }
    },
    {
      "cell_type": "code",
      "source": [
        "import time\n",
        "import os\n",
        "os.environ['GOOGLE_GENAI_USE_VERTEXAI'] = \"1\"\n",
        "os.environ['GOOGLE_CLOUD_PROJECT'] =\"\" # @param {type: \"string\", placeholder: \"[your-project-id]\", isTemplate: true}\n",
        "os.environ['GOOGLE_CLOUD_LOCATION'] =\"us-central1\""
      ],
      "metadata": {
        "id": "2AbG69rmLjYG"
      },
      "execution_count": null,
      "outputs": []
    },
    {
      "cell_type": "markdown",
      "source": [
        "## Import libraries\n",
        "\n",
        "Import tutorial libraries."
      ],
      "metadata": {
        "id": "rlMcz7urNuZt"
      }
    },
    {
      "cell_type": "code",
      "source": [
        "# Import libraries from the Agent Framework\n",
        "from google.adk.agents import Agent\n",
        "from google.adk.runners import Runner\n",
        "from google.adk.sessions import InMemorySessionService\n",
        "from google.adk.tools.agent_tool import AgentTool\n",
        "from google.genai import types"
      ],
      "metadata": {
        "id": "m-0tmwpbLkxQ"
      },
      "execution_count": null,
      "outputs": []
    },
    {
      "cell_type": "code",
      "source": [
        "# Constants\n",
        "APP_NAME=\"summary_agent\"\n",
        "USER_ID=\"user1234\"\n",
        "SESSION_ID=\"1234\""
      ],
      "metadata": {
        "id": "hT6XOsRAN291"
      },
      "execution_count": null,
      "outputs": []
    },
    {
      "cell_type": "markdown",
      "source": [
        "# Define Summerization Agent"
      ],
      "metadata": {
        "id": "UNQ40kreV36C"
      }
    },
    {
      "cell_type": "code",
      "source": [
        "summary_agent = Agent(\n",
        "    model=\"gemini-2.0-flash\",\n",
        "    name=\"summary_agent\",\n",
        "    instruction=\"\"\"You are an expert summarizer. Please read the following text and provide a concise summary.\"\"\",\n",
        "    description=\"Agent to summarize text\",\n",
        ")"
      ],
      "metadata": {
        "id": "H1qJdn1Eka8e"
      },
      "execution_count": null,
      "outputs": []
    },
    {
      "cell_type": "markdown",
      "source": [
        "## Define Root Agent"
      ],
      "metadata": {
        "id": "-UKUk5BeWQYB"
      }
    },
    {
      "cell_type": "code",
      "source": [
        "root_agent = Agent(\n",
        "    model='gemini-2.0-flash',\n",
        "    name='root_agent',\n",
        "    instruction=\"\"\"You are a helpful assistant. When the user provides a text, use the 'summarize' tool to generate a summary. Always forward the user's message exactly as received to the 'summarize' tool, without modifying or summarizing it yourself. Present the response from the tool to the user.\"\"\",\n",
        "    tools=[AgentTool(agent=summary_agent)]\n",
        ")"
      ],
      "metadata": {
        "id": "terrjAkikf0K"
      },
      "execution_count": null,
      "outputs": []
    },
    {
      "cell_type": "code",
      "source": [
        "# Session and Runner\n",
        "session_service = InMemorySessionService()\n",
        "session = session_service.create_session(app_name=APP_NAME, user_id=USER_ID, session_id=SESSION_ID)\n",
        "runner = Runner(agent=root_agent, app_name=APP_NAME, session_service=session_service)\n"
      ],
      "metadata": {
        "id": "TT-ivcWBisII"
      },
      "execution_count": null,
      "outputs": []
    },
    {
      "cell_type": "code",
      "source": [
        "# Agent Interaction\n",
        "def call_agent(query):\n",
        "    content = types.Content(role='user', parts=[types.Part(text=query)])\n",
        "    events = runner.run(user_id=USER_ID, session_id=SESSION_ID, new_message=content)\n",
        "\n",
        "    for event in events:\n",
        "        if event.is_final_response():\n",
        "            final_response = event.content.parts[0].text\n",
        "            print(\"Agent Response: \", final_response)"
      ],
      "metadata": {
        "id": "UzH287xppS80"
      },
      "execution_count": null,
      "outputs": []
    },
    {
      "cell_type": "code",
      "source": [
        "long_text = \"\"\"Quantum computing represents a fundamentally different approach to computation,\n",
        "leveraging the bizarre principles of quantum mechanics to process information. Unlike classical computers\n",
        "that rely on bits representing either 0 or 1, quantum computers use qubits which can exist in a state of superposition - effectively\n",
        "being 0, 1, or a combination of both simultaneously. Furthermore, qubits can become entangled,\n",
        "meaning their fates are intertwined regardless of distance, allowing for complex correlations. This parallelism and\n",
        "interconnectedness grant quantum computers the potential to solve specific types of incredibly complex problems - such\n",
        "as drug discovery, materials science, complex system optimization, and breaking certain types of cryptography - far\n",
        "faster than even the most powerful classical supercomputers could ever achieve, although the technology is still largely in its developmental stages.\"\"\"\n"
      ],
      "metadata": {
        "id": "gW3YSWinpWoa"
      },
      "execution_count": null,
      "outputs": []
    },
    {
      "cell_type": "code",
      "source": [
        "call_agent(long_text)"
      ],
      "metadata": {
        "id": "5TkLPYT4pepw"
      },
      "execution_count": null,
      "outputs": []
    }
  ]
}