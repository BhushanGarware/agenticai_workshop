{
  "nbformat": 4,
  "nbformat_minor": 0,
  "metadata": {
    "colab": {
      "provenance": []
    },
    "kernelspec": {
      "name": "python3",
      "display_name": "Python 3"
    },
    "language_info": {
      "name": "python"
    }
  },
  "cells": [
    {
      "cell_type": "markdown",
      "source": [
        "# Sequential Agentic Workflows"
      ],
      "metadata": {
        "id": "U9c9gWL-KzOv"
      }
    },
    {
      "cell_type": "markdown",
      "source": [
        "## Overview\n",
        "The SequentialAgent is a workflow agent that executes its sub-agents in the order they are specified in the list.\n",
        "\n",
        "Use the SequentialAgent when you want the execution to occur in a fixed, strict order."
      ],
      "metadata": {
        "id": "oI8d7oxFLHiU"
      }
    },
    {
      "cell_type": "markdown",
      "source": [
        "## Get started"
      ],
      "metadata": {
        "id": "vIjjdY96LNv3"
      }
    },
    {
      "cell_type": "code",
      "source": [
        "!pip install google-adk"
      ],
      "metadata": {
        "id": "SxXZd5WuLOR1"
      },
      "execution_count": null,
      "outputs": []
    },
    {
      "cell_type": "markdown",
      "source": [
        "### Restart runtime\n",
        "\n",
        "To use the newly installed packages in this Jupyter runtime, you must restart the runtime. You can do this by running the cell below, which restarts the current kernel.\n",
        "\n",
        "The restart might take a minute or longer. After it's restarted, continue to the next step."
      ],
      "metadata": {
        "id": "plFZ-vMKNCO5"
      }
    },
    {
      "cell_type": "code",
      "source": [
        "import IPython\n",
        "\n",
        "app = IPython.Application.instance()\n",
        "app.kernel.do_shutdown(True)"
      ],
      "metadata": {
        "id": "OzMdeWWeLa8E"
      },
      "execution_count": null,
      "outputs": []
    },
    {
      "cell_type": "markdown",
      "source": [
        "### Authenticate your notebook environment (Colab only)\n",
        "\n",
        "If you're running this notebook on Google Colab, run the cell below to authenticate your environment."
      ],
      "metadata": {
        "id": "5kcWGdQ7Lq6l"
      }
    },
    {
      "cell_type": "code",
      "source": [
        "import sys\n",
        "\n",
        "if \"google.colab\" in sys.modules:\n",
        "    from google.colab import auth\n",
        "\n",
        "    auth.authenticate_user()"
      ],
      "metadata": {
        "id": "Ldd2F358NI_2"
      },
      "execution_count": null,
      "outputs": []
    },
    {
      "cell_type": "markdown",
      "source": [
        "### Set Google Cloud project information"
      ],
      "metadata": {
        "id": "OWlYrt_lLwkb"
      }
    },
    {
      "cell_type": "code",
      "source": [
        "import time\n",
        "import os\n",
        "os.environ['GOOGLE_GENAI_USE_VERTEXAI'] = \"1\"\n",
        "os.environ['GOOGLE_CLOUD_PROJECT'] =\"\" # @param {type: \"string\", placeholder: \"[your-project-id]\", isTemplate: true}\n",
        "os.environ['GOOGLE_CLOUD_LOCATION'] =\"us-central1\""
      ],
      "metadata": {
        "id": "2AbG69rmLjYG"
      },
      "execution_count": null,
      "outputs": []
    },
    {
      "cell_type": "markdown",
      "source": [
        "## Import libraries\n",
        "\n",
        "Import tutorial libraries."
      ],
      "metadata": {
        "id": "rlMcz7urNuZt"
      }
    },
    {
      "cell_type": "code",
      "source": [
        "# Import libraries from the Agent Framework\n",
        "from google.adk.agents.sequential_agent import SequentialAgent\n",
        "from google.adk.agents.llm_agent import LlmAgent\n",
        "from google.genai import types\n",
        "from google.adk.sessions import InMemorySessionService\n",
        "from google.adk.runners import Runner"
      ],
      "metadata": {
        "id": "m-0tmwpbLkxQ"
      },
      "execution_count": null,
      "outputs": []
    },
    {
      "cell_type": "code",
      "source": [
        "# --- Constants ---\n",
        "APP_NAME = \"code_pipeline_app\"\n",
        "USER_ID = \"dev_user_01\"\n",
        "SESSION_ID = \"pipeline_session_01\"\n",
        "GEMINI_MODEL = \"gemini-2.0-flash\""
      ],
      "metadata": {
        "id": "hT6XOsRAN291"
      },
      "execution_count": null,
      "outputs": []
    },
    {
      "cell_type": "markdown",
      "source": [
        "# Define Code Writer Agent"
      ],
      "metadata": {
        "id": "UNQ40kreV36C"
      }
    },
    {
      "cell_type": "code",
      "source": [
        "# Takes the initial specification (from user query) and writes code.\n",
        "code_writer_agent = LlmAgent(\n",
        "    name=\"CodeWriterAgent\",\n",
        "    model=GEMINI_MODEL,\n",
        "    instruction=\"\"\"You are a Code Writer AI.\n",
        "    Based on the user's request, write the initial Python code.\n",
        "    Output *only* the raw code block.\n",
        "    \"\"\",\n",
        "    description=\"Writes initial code based on a specification.\",\n",
        "    # Stores its output (the generated code) into the session state\n",
        "    # under the key 'generated_code'.\n",
        "    output_key=\"generated_code\"\n",
        ")"
      ],
      "metadata": {
        "id": "H1qJdn1Eka8e"
      },
      "execution_count": null,
      "outputs": []
    },
    {
      "cell_type": "markdown",
      "source": [
        "## Code Reviewer Agent"
      ],
      "metadata": {
        "id": "-UKUk5BeWQYB"
      }
    },
    {
      "cell_type": "code",
      "source": [
        "# Takes the code generated by the previous agent (read from state) and provides feedback.\n",
        "code_reviewer_agent = LlmAgent(\n",
        "    name=\"CodeReviewerAgent\",\n",
        "    model=GEMINI_MODEL,\n",
        "    instruction=\"\"\"You are a Code Reviewer AI.\n",
        "    Review the Python code provided in the session state under the key 'generated_code'.\n",
        "    Provide constructive feedback on potential errors, style issues, or improvements.\n",
        "    Focus on clarity and correctness.\n",
        "    Output only the review comments.\n",
        "    \"\"\",\n",
        "    description=\"Reviews code and provides feedback.\",\n",
        "    # Stores its output (the review comments) into the session state\n",
        "    # under the key 'review_comments'.\n",
        "    output_key=\"review_comments\"\n",
        ")"
      ],
      "metadata": {
        "id": "terrjAkikf0K"
      },
      "execution_count": null,
      "outputs": []
    },
    {
      "cell_type": "markdown",
      "source": [
        "## Code Refactorer Agent"
      ],
      "metadata": {
        "id": "WwZ1XDpPBzgC"
      }
    },
    {
      "cell_type": "code",
      "source": [
        "# Takes the original code and the review comments (read from state) and refactors the code.\n",
        "code_refactorer_agent = LlmAgent(\n",
        "    name=\"CodeRefactorerAgent\",\n",
        "    model=GEMINI_MODEL,\n",
        "    instruction=\"\"\"You are a Code Refactorer AI.\n",
        "    Take the original Python code provided in the session state key 'generated_code'\n",
        "    and the review comments found in the session state key 'review_comments'.\n",
        "    Refactor the original code to address the feedback and improve its quality.\n",
        "    Output *only* the final, refactored code block.\n",
        "    \"\"\",\n",
        "    description=\"Refactors code based on review comments.\",\n",
        "    # Stores its output (the refactored code) into the session state\n",
        "    # under the key 'refactored_code'.\n",
        "    output_key=\"refactored_code\"\n",
        ")"
      ],
      "metadata": {
        "id": "MCiJyRsWB9Ex"
      },
      "execution_count": null,
      "outputs": []
    },
    {
      "cell_type": "markdown",
      "source": [
        "#Create the SequentialAgent"
      ],
      "metadata": {
        "id": "JT_m2N3zCHBw"
      }
    },
    {
      "cell_type": "code",
      "source": [
        "# This agent orchestrates the pipeline by running the sub_agents in order.\n",
        "code_pipeline_agent = SequentialAgent(\n",
        "    name=\"CodePipelineAgent\",\n",
        "    sub_agents=[code_writer_agent, code_reviewer_agent, code_refactorer_agent]\n",
        "    # The agents will run in the order provided: Writer -> Reviewer -> Refactorer\n",
        ")"
      ],
      "metadata": {
        "id": "SS5eInnCCOR3"
      },
      "execution_count": null,
      "outputs": []
    },
    {
      "cell_type": "code",
      "source": [
        "# Session and Runner\n",
        "session_service = InMemorySessionService()\n",
        "session = session_service.create_session(app_name=APP_NAME, user_id=USER_ID, session_id=SESSION_ID)\n",
        "runner = Runner(agent=code_pipeline_agent, app_name=APP_NAME, session_service=session_service)"
      ],
      "metadata": {
        "id": "TT-ivcWBisII"
      },
      "execution_count": null,
      "outputs": []
    },
    {
      "cell_type": "code",
      "source": [
        "# Agent Interaction\n",
        "def call_agent(query):\n",
        "    content = types.Content(role='user', parts=[types.Part(text=query)])\n",
        "    events = runner.run(user_id=USER_ID, session_id=SESSION_ID, new_message=content)\n",
        "\n",
        "    for event in events:\n",
        "        if event.is_final_response():\n",
        "            final_response = event.content.parts[0].text\n",
        "            print(\"Agent Response: \", final_response)\n"
      ],
      "metadata": {
        "id": "QmA1PXPeCr7g"
      },
      "execution_count": null,
      "outputs": []
    },
    {
      "cell_type": "code",
      "source": [
        "call_agent(\"Find given muber is prime\")"
      ],
      "metadata": {
        "id": "7vgKSCJECwWZ"
      },
      "execution_count": null,
      "outputs": []
    },
    {
      "cell_type": "code",
      "source": [],
      "metadata": {
        "id": "ALn-csMrC8xG"
      },
      "execution_count": null,
      "outputs": []
    }
  ]
}