{
  "nbformat": 4,
  "nbformat_minor": 0,
  "metadata": {
    "colab": {
      "provenance": []
    },
    "kernelspec": {
      "name": "python3",
      "display_name": "Python 3"
    },
    "language_info": {
      "name": "python"
    }
  },
  "cells": [
    {
      "cell_type": "markdown",
      "source": [
        "# Parallel Agentic Workflows"
      ],
      "metadata": {
        "id": "U9c9gWL-KzOv"
      }
    },
    {
      "cell_type": "markdown",
      "source": [
        "## Overview\n",
        "The ParallelAgent is a workflow agent that executes its sub-agents concurrently. This dramatically speeds up workflows where tasks can be performed independently."
      ],
      "metadata": {
        "id": "oI8d7oxFLHiU"
      }
    },
    {
      "cell_type": "markdown",
      "source": [
        "## Get started"
      ],
      "metadata": {
        "id": "vIjjdY96LNv3"
      }
    },
    {
      "cell_type": "code",
      "source": [
        "!pip install google-adk"
      ],
      "metadata": {
        "id": "SxXZd5WuLOR1"
      },
      "execution_count": null,
      "outputs": []
    },
    {
      "cell_type": "markdown",
      "source": [
        "### Restart runtime\n",
        "\n",
        "To use the newly installed packages in this Jupyter runtime, you must restart the runtime. You can do this by running the cell below, which restarts the current kernel.\n",
        "\n",
        "The restart might take a minute or longer. After it's restarted, continue to the next step."
      ],
      "metadata": {
        "id": "plFZ-vMKNCO5"
      }
    },
    {
      "cell_type": "code",
      "source": [
        "import IPython\n",
        "\n",
        "app = IPython.Application.instance()\n",
        "app.kernel.do_shutdown(True)"
      ],
      "metadata": {
        "id": "OzMdeWWeLa8E"
      },
      "execution_count": null,
      "outputs": []
    },
    {
      "cell_type": "markdown",
      "source": [
        "### Authenticate your notebook environment (Colab only)\n",
        "\n",
        "If you're running this notebook on Google Colab, run the cell below to authenticate your environment."
      ],
      "metadata": {
        "id": "5kcWGdQ7Lq6l"
      }
    },
    {
      "cell_type": "code",
      "source": [
        "import sys\n",
        "\n",
        "if \"google.colab\" in sys.modules:\n",
        "    from google.colab import auth\n",
        "\n",
        "    auth.authenticate_user()"
      ],
      "metadata": {
        "id": "Ldd2F358NI_2"
      },
      "execution_count": null,
      "outputs": []
    },
    {
      "cell_type": "markdown",
      "source": [
        "### Set Google Cloud project information"
      ],
      "metadata": {
        "id": "OWlYrt_lLwkb"
      }
    },
    {
      "cell_type": "code",
      "source": [
        "import time\n",
        "import os\n",
        "os.environ['GOOGLE_GENAI_USE_VERTEXAI'] = \"1\"\n",
        "os.environ['GOOGLE_CLOUD_PROJECT'] =\"\" # @param {type: \"string\", placeholder: \"[your-project-id]\", isTemplate: true}\n",
        "os.environ['GOOGLE_CLOUD_LOCATION'] =\"us-central1\""
      ],
      "metadata": {
        "id": "2AbG69rmLjYG"
      },
      "execution_count": null,
      "outputs": []
    },
    {
      "cell_type": "markdown",
      "source": [
        "## Import libraries\n",
        "\n",
        "Import tutorial libraries."
      ],
      "metadata": {
        "id": "rlMcz7urNuZt"
      }
    },
    {
      "cell_type": "code",
      "source": [
        "from google.adk.agents.parallel_agent import ParallelAgent\n",
        "from google.adk.agents.llm_agent import LlmAgent\n",
        "from google.adk.sessions import InMemorySessionService\n",
        "from google.adk.runners import Runner\n",
        "from google.adk.tools import google_search\n",
        "from google.genai import types"
      ],
      "metadata": {
        "id": "m-0tmwpbLkxQ"
      },
      "execution_count": null,
      "outputs": []
    },
    {
      "cell_type": "code",
      "source": [
        "# --- Constants ---\n",
        "APP_NAME = \"parallel_research_app\"\n",
        "USER_ID = \"research_user_01\"\n",
        "SESSION_ID = \"parallel_research_session\"\n",
        "GEMINI_MODEL = \"gemini-2.0-flash\""
      ],
      "metadata": {
        "id": "hT6XOsRAN291"
      },
      "execution_count": null,
      "outputs": []
    },
    {
      "cell_type": "markdown",
      "source": [
        "# Define Researcher Agent 1: Renewable Energy"
      ],
      "metadata": {
        "id": "UNQ40kreV36C"
      }
    },
    {
      "cell_type": "code",
      "source": [
        "researcher_agent_1 = LlmAgent(\n",
        "    name=\"RenewableEnergyResearcher\",\n",
        "    model=GEMINI_MODEL,\n",
        "    instruction=\"\"\"You are an AI Research Assistant specializing in energy.\n",
        "    Research the latest advancements in 'renewable energy sources'.\n",
        "    Use the Google Search tool provided.\n",
        "    Summarize your key findings concisely (1-2 sentences).\n",
        "    Output *only* the summary.\n",
        "    \"\"\",\n",
        "    description=\"Researches renewable energy sources.\",\n",
        "    tools=[google_search], # Provide the search tool\n",
        "    # Save the result to session state\n",
        "    output_key=\"renewable_energy_result\"\n",
        ")"
      ],
      "metadata": {
        "id": "H1qJdn1Eka8e"
      },
      "execution_count": null,
      "outputs": []
    },
    {
      "cell_type": "markdown",
      "source": [
        "## Define Researcher Agent 2: Electric Vehicles"
      ],
      "metadata": {
        "id": "-UKUk5BeWQYB"
      }
    },
    {
      "cell_type": "code",
      "source": [
        "researcher_agent_2 = LlmAgent(\n",
        "    name=\"EVResearcher\",\n",
        "    model=GEMINI_MODEL,\n",
        "    instruction=\"\"\"You are an AI Research Assistant specializing in transportation.\n",
        "    Research the latest developments in 'electric vehicle technology'.\n",
        "    Use the Google Search tool provided.\n",
        "    Summarize your key findings concisely (1-2 sentences).\n",
        "    Output *only* the summary.\n",
        "    \"\"\",\n",
        "    description=\"Researches electric vehicle technology.\",\n",
        "    tools=[google_search], # Provide the search tool\n",
        "    # Save the result to session state\n",
        "    output_key=\"ev_technology_result\"\n",
        ")"
      ],
      "metadata": {
        "id": "terrjAkikf0K"
      },
      "execution_count": null,
      "outputs": []
    },
    {
      "cell_type": "markdown",
      "source": [
        "## Define Researcher Agent 3: Carbon Capture"
      ],
      "metadata": {
        "id": "0wevrV9y6Dnk"
      }
    },
    {
      "cell_type": "code",
      "source": [
        "researcher_agent_3 = LlmAgent(\n",
        "    name=\"CarbonCaptureResearcher\",\n",
        "    model=GEMINI_MODEL,\n",
        "    instruction=\"\"\"You are an AI Research Assistant specializing in climate solutions.\n",
        "    Research the current state of 'carbon capture methods'.\n",
        "    Use the Google Search tool provided.\n",
        "    Summarize your key findings concisely (1-2 sentences).\n",
        "    Output *only* the summary.\n",
        "    \"\"\",\n",
        "    description=\"Researches carbon capture methods.\",\n",
        "    tools=[google_search], # Provide the search tool\n",
        "    # Save the result to session state\n",
        "    output_key=\"carbon_capture_result\"\n",
        ")"
      ],
      "metadata": {
        "id": "Ptaj_s-X6Kjh"
      },
      "execution_count": null,
      "outputs": []
    },
    {
      "cell_type": "markdown",
      "source": [
        "#Create the Parrel Agent"
      ],
      "metadata": {
        "id": "JT_m2N3zCHBw"
      }
    },
    {
      "cell_type": "code",
      "source": [
        "# --- Create the ParallelAgent ---\n",
        "# This agent orchestrates the concurrent execution of the researchers.\n",
        "parallel_research_agent = ParallelAgent(\n",
        "    name=\"ParallelWebResearchAgent\",\n",
        "    sub_agents=[researcher_agent_1, researcher_agent_2, researcher_agent_3]\n",
        ")"
      ],
      "metadata": {
        "id": "SS5eInnCCOR3"
      },
      "execution_count": null,
      "outputs": []
    },
    {
      "cell_type": "code",
      "source": [
        "# Session and Runner\n",
        "session_service = InMemorySessionService()\n",
        "session = session_service.create_session(app_name=APP_NAME, user_id=USER_ID, session_id=SESSION_ID)\n",
        "runner = Runner(agent=parallel_research_agent, app_name=APP_NAME, session_service=session_service)"
      ],
      "metadata": {
        "id": "TT-ivcWBisII"
      },
      "execution_count": null,
      "outputs": []
    },
    {
      "cell_type": "code",
      "source": [
        "# Agent Interaction\n",
        "def call_agent(query):\n",
        "    content = types.Content(role='user', parts=[types.Part(text=query)])\n",
        "    events = runner.run(user_id=USER_ID, session_id=SESSION_ID, new_message=content)\n",
        "\n",
        "    for event in events:\n",
        "        if event.is_final_response():\n",
        "            final_response = event.content.parts[0].text\n",
        "            print(\"Agent Response: \", final_response)"
      ],
      "metadata": {
        "id": "QmA1PXPeCr7g"
      },
      "execution_count": null,
      "outputs": []
    },
    {
      "cell_type": "code",
      "source": [
        "call_agent(\"execute\")"
      ],
      "metadata": {
        "id": "ALn-csMrC8xG"
      },
      "execution_count": null,
      "outputs": []
    },
    {
      "cell_type": "code",
      "source": [
        "call_agent(\"research latest trends\")"
      ],
      "metadata": {
        "id": "ameDtCVEGNcb"
      },
      "execution_count": null,
      "outputs": []
    }
  ]
}